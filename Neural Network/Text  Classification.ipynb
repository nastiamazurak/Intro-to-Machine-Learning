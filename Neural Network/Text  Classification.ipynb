{
 "cells": [
  {
   "cell_type": "code",
   "execution_count": 91,
   "metadata": {},
   "outputs": [],
   "source": [
    "import numpy as np\n",
    "import pandas as pd\n",
    "from sklearn.model_selection import train_test_split\n",
    "from mpl_toolkits.mplot3d import Axes3D\n",
    "import matplotlib.pyplot as plt\n",
    "import seaborn as sns\n",
    "from matplotlib.colors import ListedColormap\n",
    "cm_bright = ListedColormap(['#FF0000', '#0000FF'])\n",
    "%matplotlib inline\n",
    "from sklearn.metrics import accuracy_score\n",
    "\n",
    "import sklearn.linear_model\n",
    "import re\n",
    "import nltk\n",
    "from time import time\n",
    "from sklearn.metrics import accuracy_score, precision_score, recall_score\n",
    "from sklearn.datasets import fetch_20newsgroups\n",
    "from sklearn.metrics import confusion_matrix\n",
    "from sklearn.preprocessing import OneHotEncoder\n",
    "from sklearn.feature_extraction.text import TfidfVectorizer\n",
    "from sklearn.metrics import classification_report\n",
    "# nltk.download('stopwords')\n",
    "from sklearn.preprocessing import LabelEncoder\n",
    "import warnings\n",
    "warnings.filterwarnings(\"ignore\", category=FutureWarning)"
   ]
  },
  {
   "cell_type": "code",
   "execution_count": 2,
   "metadata": {},
   "outputs": [],
   "source": [
    "def plot_surface(cls, x_1, x_2, ax=None, threshold=0.5, contourf=False):\n",
    "    xx1, xx2 = np.meshgrid(np.linspace(x_1.min(), x_1.max(), 100), \n",
    "                           np.linspace(x_2.min(), x_2.max(), 100))\n",
    "\n",
    "    X_pred = np.c_[xx1.ravel(), xx2.ravel()]\n",
    "    pred = cls.predict_proba(X_pred)[:, 0]\n",
    "    Z = pred.reshape((100, 100))\n",
    "    if ax is None:\n",
    "        ax = plt.gca()\n",
    "    ax.contour(xx1, xx2, Z, levels=[threshold], colors='black')\n",
    "    ax.set_xlim((x_1.min(), x_1.max()))\n",
    "    ax.set_ylim((x_2.min(), x_2.max()))"
   ]
  },
  {
   "cell_type": "code",
   "execution_count": 3,
   "metadata": {},
   "outputs": [],
   "source": [
    "def plot_data(X, y):\n",
    "    ax = plt.gca()\n",
    "    ax.scatter(X[:,0], X[:,1], c=(y == 1), cmap=cm_bright)"
   ]
  },
  {
   "cell_type": "code",
   "execution_count": 76,
   "metadata": {},
   "outputs": [],
   "source": [
    "class NeuralNet:\n",
    "    \"\"\"\n",
    "    NN for binary classification\n",
    "    Attributes:\n",
    "    ...\n",
    "    \"\"\"\n",
    "    \n",
    "    def __init__(self, hidden_layer_sizes, normalize = True, learning_rate = 0.01, num_iter = 30000 , \n",
    "                 precision = None, accuracy=0.00001,beta=0.5,epsilon=1e-8):\n",
    "        self.learning_rate = learning_rate\n",
    "        self.num_iter = num_iter\n",
    "        self.normalize = normalize\n",
    "        self.hidden_layer_sizes = hidden_layer_sizes\n",
    "        self.precision = precision\n",
    "        self.accuracy = accuracy\n",
    "        self.n_layers = 1 + len(hidden_layer_sizes)\n",
    "        self.epsilon = epsilon\n",
    "        self.beta = beta;\n",
    "        \n",
    "    \n",
    "    def __normalize(self, X, mean = None, std = None):\n",
    "        n = X.shape[0]        \n",
    "        m = mean\n",
    "        if m is None:\n",
    "            m = np.mean(X, axis=1).reshape((n, 1))\n",
    "        s = std\n",
    "        if s is None:\n",
    "            s = np.std(X, axis=1).reshape((n, 1))\n",
    "        X_new = (X-m)/s**2\n",
    "        \n",
    "        return X_new, m, s\n",
    "\n",
    "\n",
    "    def __sigmoid(self, Z):\n",
    "        \"\"\"\n",
    "        В наступних практичних потрібно буде додати підтримку й інших активаційних функцій - це один з гіперпараметрів. \n",
    "        Їх можна вибирати для всіх шарів одночасно або мати різні активаційні функції на кожному з них.\n",
    "        \"\"\"\n",
    "        return 1 / (1 + np.exp(-Z))\n",
    "       \n",
    "    def __softmax(self, Z):\n",
    "        expZ = np.exp(Z - np.max(Z))\n",
    "        return expZ / expZ.sum(axis=0, keepdims=True)\n",
    "        \n",
    "    \n",
    "    def __initialize_parameters(self, n_x, hidden_layers, n_y):\n",
    "        np.random.seed(1)\n",
    "        W = list()\n",
    "        b = list()\n",
    "        \n",
    "        h = list(hidden_layers)\n",
    "        h.insert(0, n_x)\n",
    "        h.append(n_y)\n",
    "        hidden_layers = tuple(h)\n",
    "        \n",
    "        for i in range(1, self.n_layers+1):\n",
    "            W.append(np.random.randn(hidden_layers[i], hidden_layers[i-1]) / np.sqrt(\n",
    "                hidden_layers[i - 1]))\n",
    "            b.append(np.zeros((hidden_layers[i], 1)))\n",
    "\n",
    "        self.parameters = {\"W\" : W, \"b\" : b}\n",
    "\n",
    "\n",
    "    def __forward_propagation(self, X):\n",
    "        W = self.parameters[\"W\"]\n",
    "        b = self.parameters[\"b\"]\n",
    "\n",
    "        A = list()\n",
    "        Z = list()\n",
    "               \n",
    "        for i in range(0, self.n_layers-1):\n",
    "            if i == 0:\n",
    "                Z.append(np.dot(W[i], X) + b[i])\n",
    "            else:\n",
    "                Z.append(np.dot(W[i], A[i-1]) + b[i])\n",
    "            A.append(self.__sigmoid(Z[i]))\n",
    "        \n",
    "        Z.append(np.dot(W[-1], A[-1]) + b[-1])\n",
    "        A.append(self.__softmax(Z[-1]))\n",
    "        \n",
    "        cache = (W, b, Z, A)\n",
    "\n",
    "        return A[-1], cache\n",
    "    \n",
    "    def __sigmoid_derivative(self, Z):\n",
    "        s = 1 / (1 + np.exp(-Z))\n",
    "        return np.multiply(s, (1 - s))\n",
    "    \n",
    "    def compute_cost(self, A, Y):\n",
    "        J = -np.mean(Y.T * np.log(A.T+ 1e-8))\n",
    "        return J\n",
    "    \n",
    "    def __backward_propagation(self, X, Y, cache):\n",
    "        m = X.shape[1]\n",
    "        n = X.shape[0]\n",
    "        (W, b, Z, A) = cache\n",
    "        \n",
    "        dW = [None] * (self.n_layers)\n",
    "        dA = [None] * (self.n_layers)\n",
    "        dZ = [None] * (self.n_layers)\n",
    "        db = [None] * (self.n_layers)\n",
    "        \n",
    "        dZ[-1] = (A[-1] - Y)\n",
    "        dW[-1] = (1. / m * np.dot(dZ[-1], A[-2].T))\n",
    "        db[-1] = (1. / m * np.sum(dZ[-1], axis = 1, keepdims = True))\n",
    "        dA[-1] = np.dot(W[-1].T, dZ[-1])\n",
    "        \n",
    "        for i in range(self.n_layers-1, 0, -1):\n",
    "            dZ[i-1] = np.multiply(dA[i], self.__sigmoid_derivative(Z[i-1]))\n",
    "            if i-1 == 0:\n",
    "                dW[i-1] = 1. / m * np.dot(dZ[i-1], X.T)\n",
    "            else:\n",
    "                dW[i-1] = 1. / m * np.dot(dZ[i-1], A[i-2].T)\n",
    "            db[i-1] = 1. / m * np.sum(dZ[i-1], axis = 1, keepdims = True) \n",
    "            dA[i-1] = np.dot(W[i-1].T, dZ[i-1])\n",
    "        \n",
    "        grads = {\"dZ\" : dZ, \"dW\" : dW, \"db\" : db}\n",
    "        return grads\n",
    "\n",
    "\n",
    "    def __update_parameters(self, grads):\n",
    "        W = self.parameters[\"W\"]\n",
    "        b = self.parameters[\"b\"]\n",
    "\n",
    "        dW = grads[\"dW\"]\n",
    "        db = grads[\"db\"]\n",
    "        \n",
    "        for i in range(self.n_layers):\n",
    "            self.S_dW[i] = self.beta * self.S_dW[i] + (1 - self.beta) * np.power(dW[i], 2)\n",
    "            self.S_db[i] = self.beta * self.S_db[i] + (1 - self.beta) * np.power(db[i], 2)\n",
    "            W[i] = W[i] - self.learning_rate * dW[i] / (np.sqrt(self.S_dW[i]) + self.epsilon)\n",
    "            b[i] = b[i] - self.learning_rate * db[i] / (np.sqrt(self.S_db[i]) + self.epsilon)\n",
    "            \n",
    "        self.parameters = {\"W\" : W, \"b\" : b}\n",
    "\n",
    "    def fit(self, X_vert, Y_vert, print_cost = True):\n",
    "        self.n_iter = 0\n",
    "        X, Y = X_vert.T, Y_vert.T\n",
    "        \n",
    "        if self.normalize:\n",
    "            X, self.__mean, self.__std = self.__normalize(X)\n",
    "        \n",
    "        costs = []\n",
    "        check = []\n",
    "        \n",
    "        m = X.shape[1]\n",
    "        n_x = X.shape[0]\n",
    "        n_y = Y.shape[0]\n",
    "        \n",
    "        self.__initialize_parameters(n_x, self.hidden_layer_sizes, n_y)\n",
    "\n",
    "        self.S_dW = list()\n",
    "        self.S_db = list()\n",
    "        h = list(self.hidden_layer_sizes)\n",
    "        h.insert(0, n_x)\n",
    "        h.append(n_y)\n",
    "        hidden_layers = tuple(h)\n",
    "        for i in range(1, self.n_layers+1):\n",
    "            self.S_dW.append(np.zeros((hidden_layers[i], hidden_layers[i-1])))\n",
    "            self.S_db.append(np.zeros((hidden_layers[i], 1)))\n",
    "        \n",
    "        for i in range(self.num_iter):\n",
    "            self.n_iter = i\n",
    "            A, cache = self.__forward_propagation(X)\n",
    "\n",
    "            cost = self.compute_cost(A, Y)\n",
    "\n",
    "            grads = self.__backward_propagation(X, Y, cache)\n",
    "\n",
    "            self.__update_parameters(grads)\n",
    "            \n",
    "            check.append(cost)\n",
    "            if print_cost and i % 10 == 0:\n",
    "                print(\"{}-th iteration: {}\".format(i, cost))\n",
    "\n",
    "            if i % 10 == 0:\n",
    "                costs.append(cost)\n",
    "                \n",
    "            if(len(check)>2 and abs(check[i]-check[i-1])<self.accuracy):\n",
    "                break\n",
    "\n",
    "        if print_cost:\n",
    "            plt.plot(costs)\n",
    "            plt.ylabel(\"Cost\")\n",
    "            plt.xlabel(\"Iteration, *1000\")\n",
    "            plt.show()\n",
    "\n",
    "    \n",
    "    def predict_proba(self, X_vert):\n",
    "        X = X_vert.T\n",
    "        if self.normalize:\n",
    "            X, _, _ = self.__normalize(X, self.__mean, self.__std)\n",
    "        \n",
    "        probs,cache = self.__forward_propagation(X)\n",
    "        return probs.T\n",
    "    \n",
    "    \n",
    "    def predict(self, X_vert):\n",
    "        pp = self.predict_proba(X_vert)\n",
    "        return np.argmax(pp, axis=1)"
   ]
  },
  {
   "cell_type": "code",
   "execution_count": null,
   "metadata": {},
   "outputs": [],
   "source": []
  },
  {
   "cell_type": "code",
   "execution_count": 5,
   "metadata": {
    "scrolled": true
   },
   "outputs": [],
   "source": [
    "HEADERS = [\n",
    "    'From', 'Subject', 'To', 'Reply-To', 'In-Reply-To', 'Apparently-To',\n",
    "    'Original-Sender', 'Originator', 'Moderator', 'Organization', 'Keywords',\n",
    "    'Distribution', 'NNTP-Posting-Host', 'Lines', 'Summary', 'Supersedes',\n",
    "    'X-Bytes', 'X-Disclaimer', 'X-Mailer', 'X-Newsreader', 'X-News-Reader',\n",
    "    'X-Gated-By', 'X-Added', 'X-Status',\n",
    "    'OD-Comment-To', 'Expires', 'Disclaimer', 'Article-I.D.', \n",
    "    'News-Software',  'Nf-ID', 'Mime-Version'\n",
    "]\n",
    "\n",
    "RE_EMAIL = re.compile('<?.*@.*>?', re.M)\n",
    "RE_LINE_BREAK = re.compile('\\\\n+', re.M)\n",
    "RE_CITATION = re.compile('^.*writes:$', re.M)\n",
    "RE_CITATION_QUOTES = re.compile('(\\W+|^)(\\|>|>|\\|)+', re.M)\n",
    "RE_HEADERS = re.compile('^(%s):.*$' % '|'.join(HEADERS), re.M|re.I)\n",
    "def _clean(docs):\n",
    "    docs = map(rm_headers, docs)\n",
    "    docs = map(rm_citation, docs)\n",
    "    docs = map(rm_citation_quotes, docs)\n",
    "    docs = map(rm_email, docs)\n",
    "    docs = map(rm_line_break, docs)\n",
    "    \n",
    "    return list(docs)\n",
    "\n",
    "def rm_citation(doc):\n",
    "    return RE_CITATION.sub('', doc)\n",
    "\n",
    "def rm_citation_quotes(doc):\n",
    "    return RE_CITATION_QUOTES.sub(r'\\1', doc)\n",
    "\n",
    "def rm_email(doc):\n",
    "    return RE_EMAIL.sub('<email>', doc)\n",
    "\n",
    "def rm_line_break(doc):\n",
    "    return RE_LINE_BREAK.sub(' ', doc).strip('\\n\\t ')\n",
    "\n",
    "def rm_headers(doc):\n",
    "    return RE_HEADERS.sub('', doc)"
   ]
  },
  {
   "cell_type": "code",
   "execution_count": 7,
   "metadata": {},
   "outputs": [],
   "source": [
    "ng = fetch_20newsgroups(subset=\"all\", shuffle=False)\n",
    "df=pd.DataFrame.from_dict({\n",
    "        'text': _clean(ng.data),\n",
    "        'group': np.take(ng.target_names, ng.target)\n",
    "    })"
   ]
  },
  {
   "cell_type": "code",
   "execution_count": null,
   "metadata": {},
   "outputs": [],
   "source": [
    "df.describe(include='all')"
   ]
  },
  {
   "cell_type": "code",
   "execution_count": null,
   "metadata": {},
   "outputs": [],
   "source": [
    "df.head(100)"
   ]
  },
  {
   "cell_type": "code",
   "execution_count": 8,
   "metadata": {},
   "outputs": [],
   "source": [
    "train, test = train_test_split(df, test_size=0.2, random_state=42, stratify=df.group)"
   ]
  },
  {
   "cell_type": "code",
   "execution_count": 9,
   "metadata": {},
   "outputs": [
    {
     "data": {
      "text/plain": [
       "rec.sport.hockey            799\n",
       "soc.religion.christian      798\n",
       "rec.motorcycles             797\n",
       "rec.sport.baseball          795\n",
       "sci.crypt                   793\n",
       "sci.med                     792\n",
       "rec.autos                   792\n",
       "sci.space                   790\n",
       "comp.windows.x              790\n",
       "comp.os.ms-windows.misc     788\n",
       "sci.electronics             787\n",
       "comp.sys.ibm.pc.hardware    786\n",
       "misc.forsale                780\n",
       "comp.graphics               778\n",
       "comp.sys.mac.hardware       770\n",
       "talk.politics.mideast       752\n",
       "talk.politics.guns          728\n",
       "alt.atheism                 639\n",
       "talk.politics.misc          620\n",
       "talk.religion.misc          502\n",
       "Name: group, dtype: int64"
      ]
     },
     "execution_count": 9,
     "metadata": {},
     "output_type": "execute_result"
    }
   ],
   "source": [
    "train.group.value_counts()"
   ]
  },
  {
   "cell_type": "code",
   "execution_count": 10,
   "metadata": {},
   "outputs": [],
   "source": [
    "label_encoder = LabelEncoder().fit(train.group)"
   ]
  },
  {
   "cell_type": "code",
   "execution_count": 11,
   "metadata": {},
   "outputs": [
    {
     "data": {
      "text/plain": [
       "array(['alt.atheism', 'comp.graphics', 'comp.os.ms-windows.misc',\n",
       "       'comp.sys.ibm.pc.hardware', 'comp.sys.mac.hardware',\n",
       "       'comp.windows.x', 'misc.forsale', 'rec.autos', 'rec.motorcycles',\n",
       "       'rec.sport.baseball', 'rec.sport.hockey', 'sci.crypt',\n",
       "       'sci.electronics', 'sci.med', 'sci.space',\n",
       "       'soc.religion.christian', 'talk.politics.guns',\n",
       "       'talk.politics.mideast', 'talk.politics.misc',\n",
       "       'talk.religion.misc'], dtype=object)"
      ]
     },
     "execution_count": 11,
     "metadata": {},
     "output_type": "execute_result"
    }
   ],
   "source": [
    "label_encoder.classes_"
   ]
  },
  {
   "cell_type": "code",
   "execution_count": 12,
   "metadata": {},
   "outputs": [
    {
     "name": "stdout",
     "output_type": "stream",
     "text": [
      "Y_train shape: (15076,)\n",
      "Y_test shape: (3770,)\n"
     ]
    }
   ],
   "source": [
    "Y_train = label_encoder.transform(train.group)\n",
    "print('Y_train shape: %s' % (Y_train.shape,))\n",
    "\n",
    "Y_test = label_encoder.transform(test.group)\n",
    "print('Y_test shape: %s' % (Y_test.shape,))"
   ]
  },
  {
   "cell_type": "code",
   "execution_count": 13,
   "metadata": {},
   "outputs": [
    {
     "data": {
      "text/plain": [
       "10000"
      ]
     },
     "execution_count": 13,
     "metadata": {},
     "output_type": "execute_result"
    }
   ],
   "source": [
    "tfidf = TfidfVectorizer(max_features=10000).fit(train.text)\n",
    "len(tfidf.vocabulary_)"
   ]
  },
  {
   "cell_type": "code",
   "execution_count": 14,
   "metadata": {},
   "outputs": [
    {
     "name": "stdout",
     "output_type": "stream",
     "text": [
      "X_train shape: (15076, 10000)\n",
      "X_test shape: (3770, 10000)\n"
     ]
    }
   ],
   "source": [
    "X_train = tfidf.transform(train.text).toarray()\n",
    "print('X_train shape: %s' % (X_train.shape,))\n",
    "\n",
    "X_test = tfidf.transform(test.text).toarray()\n",
    "print('X_test shape: %s' % (X_test.shape,))"
   ]
  },
  {
   "cell_type": "code",
   "execution_count": 15,
   "metadata": {},
   "outputs": [
    {
     "name": "stdout",
     "output_type": "stream",
     "text": [
      "Y_train shape: (15076,)\n",
      "Y_test shape: (3770,)\n"
     ]
    }
   ],
   "source": [
    "label_encoder = LabelEncoder().fit(train.group)\n",
    "\n",
    "Y_train = label_encoder.transform(train.group)\n",
    "print('Y_train shape: %s' % (Y_train.shape,))\n",
    "\n",
    "Y_test = label_encoder.transform(test.group)\n",
    "print('Y_test shape: %s' % (Y_test.shape,))"
   ]
  },
  {
   "cell_type": "markdown",
   "metadata": {},
   "source": [
    "# MultinomialNB"
   ]
  },
  {
   "cell_type": "code",
   "execution_count": 93,
   "metadata": {},
   "outputs": [],
   "source": [
    "from sklearn.naive_bayes import MultinomialNB\n",
    "\n",
    "clf = MultinomialNB().fit(X_train, Y_train)"
   ]
  },
  {
   "cell_type": "code",
   "execution_count": 94,
   "metadata": {},
   "outputs": [
    {
     "name": "stdout",
     "output_type": "stream",
     "text": [
      "                          precision    recall  f1-score   support\n",
      "\n",
      "             alt.atheism       0.88      0.72      0.79       639\n",
      "           comp.graphics       0.84      0.85      0.85       778\n",
      " comp.os.ms-windows.misc       0.83      0.86      0.85       788\n",
      "comp.sys.ibm.pc.hardware       0.79      0.88      0.83       786\n",
      "   comp.sys.mac.hardware       0.92      0.89      0.91       770\n",
      "          comp.windows.x       0.92      0.88      0.90       790\n",
      "            misc.forsale       0.90      0.80      0.85       780\n",
      "               rec.autos       0.91      0.94      0.92       792\n",
      "         rec.motorcycles       0.96      0.95      0.96       797\n",
      "      rec.sport.baseball       0.96      0.97      0.97       795\n",
      "        rec.sport.hockey       0.94      0.98      0.96       799\n",
      "               sci.crypt       0.91      0.95      0.93       793\n",
      "         sci.electronics       0.88      0.84      0.86       787\n",
      "                 sci.med       0.94      0.95      0.95       792\n",
      "               sci.space       0.95      0.93      0.94       790\n",
      "  soc.religion.christian       0.59      0.97      0.74       798\n",
      "      talk.politics.guns       0.75      0.96      0.84       728\n",
      "   talk.politics.mideast       0.92      0.95      0.94       752\n",
      "      talk.politics.misc       0.97      0.67      0.79       620\n",
      "      talk.religion.misc       1.00      0.10      0.18       502\n",
      "\n",
      "                accuracy                           0.87     15076\n",
      "               macro avg       0.89      0.85      0.85     15076\n",
      "            weighted avg       0.89      0.87      0.86     15076\n",
      "\n"
     ]
    }
   ],
   "source": [
    "print(classification_report(Y_train, clf.predict(X_train), target_names=label_encoder.classes_))"
   ]
  },
  {
   "cell_type": "code",
   "execution_count": 95,
   "metadata": {},
   "outputs": [
    {
     "name": "stdout",
     "output_type": "stream",
     "text": [
      "                          precision    recall  f1-score   support\n",
      "\n",
      "             alt.atheism       0.79      0.58      0.67       160\n",
      "           comp.graphics       0.72      0.79      0.76       195\n",
      " comp.os.ms-windows.misc       0.77      0.77      0.77       197\n",
      "comp.sys.ibm.pc.hardware       0.69      0.79      0.73       196\n",
      "   comp.sys.mac.hardware       0.85      0.77      0.81       193\n",
      "          comp.windows.x       0.84      0.82      0.83       198\n",
      "            misc.forsale       0.89      0.75      0.81       195\n",
      "               rec.autos       0.87      0.86      0.86       198\n",
      "         rec.motorcycles       0.88      0.90      0.89       199\n",
      "      rec.sport.baseball       0.95      0.95      0.95       199\n",
      "        rec.sport.hockey       0.93      0.93      0.93       200\n",
      "               sci.crypt       0.85      0.91      0.88       198\n",
      "         sci.electronics       0.82      0.77      0.79       197\n",
      "                 sci.med       0.94      0.88      0.91       198\n",
      "               sci.space       0.91      0.91      0.91       197\n",
      "  soc.religion.christian       0.52      0.96      0.68       199\n",
      "      talk.politics.guns       0.67      0.95      0.79       182\n",
      "   talk.politics.mideast       0.89      0.92      0.90       188\n",
      "      talk.politics.misc       0.94      0.52      0.67       155\n",
      "      talk.religion.misc       1.00      0.04      0.08       126\n",
      "\n",
      "                accuracy                           0.81      3770\n",
      "               macro avg       0.84      0.79      0.78      3770\n",
      "            weighted avg       0.83      0.81      0.80      3770\n",
      "\n"
     ]
    }
   ],
   "source": [
    "print(classification_report(Y_test, clf.predict(X_test), target_names=label_encoder.classes_))"
   ]
  },
  {
   "cell_type": "code",
   "execution_count": 96,
   "metadata": {},
   "outputs": [],
   "source": [
    "pred = clf.predict(X_test)"
   ]
  },
  {
   "cell_type": "code",
   "execution_count": 97,
   "metadata": {},
   "outputs": [
    {
     "data": {
      "text/plain": [
       "0.806631299734748"
      ]
     },
     "execution_count": 97,
     "metadata": {},
     "output_type": "execute_result"
    }
   ],
   "source": [
    "from sklearn.metrics import accuracy_score\n",
    "accuracy_score(Y_test, pred)"
   ]
  },
  {
   "cell_type": "code",
   "execution_count": 98,
   "metadata": {},
   "outputs": [
    {
     "data": {
      "image/png": "[encoded data removed]",
      "text/plain": [
       "<Figure size 1152x720 with 2 Axes>"
      ]
     },
     "metadata": {
      "needs_background": "light"
     },
     "output_type": "display_data"
    }
   ],
   "source": [
    "import seaborn as sns\n",
    "cm = confusion_matrix(Y_test, pred) \n",
    "plt.figure(figsize=(16,10))\n",
    "sns.heatmap(cm,annot=True)\n",
    "plt.show()"
   ]
  },
  {
   "cell_type": "markdown",
   "metadata": {},
   "source": [
    "# Custom Classifier"
   ]
  },
  {
   "cell_type": "code",
   "execution_count": 82,
   "metadata": {},
   "outputs": [],
   "source": [
    "cls = NeuralNet(hidden_layer_sizes = [50,] , normalize = True, learning_rate = 0.001, num_iter = 100, beta = 0.3, epsilon=1e-8, accuracy=0.0001)\n",
    "    \n",
    "#cls = NeuralNet(normalize = True, learning_rate = 0.01, \n",
    " #                num_iter = 1000,hidden_layer_sizes=[60,],accuracy=0.00000001,beta=0.8)    "
   ]
  },
  {
   "cell_type": "code",
   "execution_count": 83,
   "metadata": {},
   "outputs": [],
   "source": [
    "encoder = OneHotEncoder()\n",
    "Y_train_e = encoder.fit_transform(Y_train.reshape((Y_train.shape[0], 1))).toarray()"
   ]
  },
  {
   "cell_type": "code",
   "execution_count": 84,
   "metadata": {
    "scrolled": true
   },
   "outputs": [
    {
     "name": "stdout",
     "output_type": "stream",
     "text": [
      "0-th iteration: 0.1593559821669858\n",
      "10-th iteration: 0.11537986257970888\n",
      "20-th iteration: 0.09479613735830571\n",
      "30-th iteration: 0.08044653922782923\n",
      "40-th iteration: 0.06978096583874913\n",
      "50-th iteration: 0.0605325401270101\n",
      "60-th iteration: 0.053012478494100915\n",
      "70-th iteration: 0.046775143073439225\n"
     ]
    },
    {
     "data": {
      "image/png": "[encoded data removed]",
      "text/plain": [
       "<Figure size 432x288 with 1 Axes>"
      ]
     },
     "metadata": {
      "needs_background": "light"
     },
     "output_type": "display_data"
    }
   ],
   "source": [
    "cls.fit(X_train, Y_train_e)"
   ]
  },
  {
   "cell_type": "code",
   "execution_count": 85,
   "metadata": {},
   "outputs": [
    {
     "name": "stdout",
     "output_type": "stream",
     "text": [
      "(15076,)\n",
      "Accuracy       :  0.9376492438312549\n",
      "Precision      :  0.9376492438312549\n",
      "Recall         :  0.9376492438312549\n"
     ]
    }
   ],
   "source": [
    "y_train_pred = np.array(cls.predict(X_train))\n",
    "print(Y_train.shape)\n",
    "accuracy_ts = accuracy_score(Y_train, y_train_pred)\n",
    "precision_ts = precision_score(Y_train, y_train_pred, average='micro')\n",
    "recall_ts = recall_score(Y_train, y_train_pred, average='micro')\n",
    "print('Accuracy       : ', accuracy_ts)\n",
    "print('Precision      : ', precision_ts)\n",
    "print('Recall         : ', recall_ts)"
   ]
  },
  {
   "cell_type": "code",
   "execution_count": 86,
   "metadata": {},
   "outputs": [
    {
     "name": "stdout",
     "output_type": "stream",
     "text": [
      "                          precision    recall  f1-score   support\n",
      "\n",
      "             alt.atheism       0.92      0.88      0.90       639\n",
      "           comp.graphics       0.84      0.94      0.89       778\n",
      " comp.os.ms-windows.misc       0.96      0.89      0.92       788\n",
      "comp.sys.ibm.pc.hardware       0.93      0.94      0.94       786\n",
      "   comp.sys.mac.hardware       0.93      0.94      0.94       770\n",
      "          comp.windows.x       0.92      0.95      0.93       790\n",
      "            misc.forsale       0.91      0.94      0.92       780\n",
      "               rec.autos       0.94      0.96      0.95       792\n",
      "         rec.motorcycles       0.97      0.96      0.97       797\n",
      "      rec.sport.baseball       0.97      0.98      0.97       795\n",
      "        rec.sport.hockey       0.97      0.98      0.97       799\n",
      "               sci.crypt       0.96      0.97      0.96       793\n",
      "         sci.electronics       0.98      0.85      0.91       787\n",
      "                 sci.med       0.96      0.94      0.95       792\n",
      "               sci.space       0.96      0.95      0.96       790\n",
      "  soc.religion.christian       0.85      0.99      0.92       798\n",
      "      talk.politics.guns       0.93      0.95      0.94       728\n",
      "   talk.politics.mideast       0.98      0.95      0.97       752\n",
      "      talk.politics.misc       0.97      0.92      0.95       620\n",
      "      talk.religion.misc       0.96      0.78      0.86       502\n",
      "\n",
      "                accuracy                           0.94     15076\n",
      "               macro avg       0.94      0.93      0.94     15076\n",
      "            weighted avg       0.94      0.94      0.94     15076\n",
      "\n"
     ]
    }
   ],
   "source": [
    "print(classification_report(Y_train, y_train_pred,target_names=label_encoder.classes_))"
   ]
  },
  {
   "cell_type": "code",
   "execution_count": 92,
   "metadata": {},
   "outputs": [
    {
     "data": {
      "image/png": "[encoded data removed]",
      "text/plain": [
       "<Figure size 1152x720 with 2 Axes>"
      ]
     },
     "metadata": {
      "needs_background": "light"
     },
     "output_type": "display_data"
    }
   ],
   "source": [
    "cm = confusion_matrix(Y_train, y_train_pred) \n",
    "plt.figure(figsize=(16,10))\n",
    "sns.heatmap(cm,annot=True)\n",
    "plt.show()"
   ]
  },
  {
   "cell_type": "code",
   "execution_count": null,
   "metadata": {},
   "outputs": [],
   "source": []
  }
 ],
 "metadata": {
  "anaconda-cloud": {},
  "kernelspec": {
   "display_name": "Python 3",
   "language": "python",
   "name": "python3"
  },
  "language_info": {
   "codemirror_mode": {
    "name": "ipython",
    "version": 3
   },
   "file_extension": ".py",
   "mimetype": "text/x-python",
   "name": "python",
   "nbconvert_exporter": "python",
   "pygments_lexer": "ipython3",
   "version": "3.7.4"
  }
 },
 "nbformat": 4,
 "nbformat_minor": 1
}
