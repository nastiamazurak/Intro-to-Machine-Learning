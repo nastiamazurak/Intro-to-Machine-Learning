{
 "cells": [
  {
   "cell_type": "markdown",
   "metadata": {},
   "source": [
    "В цій практичній роботі ми спробуємо реалізувати нейронну мережу з двох шарів (прихований і вихідний). Запропонований підхід стане заготовкою для реалізації наступних оптимізацій: MBGD, ADAM та регуляризації. \n",
    "\n",
    "Сьогодні ж вам пропонується додати до цього класу підтримку довільної кількості шарів та нейронів в них (наприклад, передавати їх параметром в конструктор, як це робиться в MLPClassifier за допомогою hidden_layer_sizes). Також потрібно передбачити можливість ранньої зупинки ітераційного процесу, якщо значення штрафної функції не покращуватиметься протягом певної кількості ітерацій. Наприклад, якщо протягом $k$ ітерацій штрафна функція за модулем не стане меншою, ніж на поточному кроці."
   ]
  },
  {
   "cell_type": "code",
   "execution_count": 124,
   "metadata": {},
   "outputs": [],
   "source": [
    "import numpy as np\n",
    "import pandas as pd\n",
    "from sklearn.model_selection import train_test_split\n",
    "from mpl_toolkits.mplot3d import Axes3D\n",
    "import matplotlib.pyplot as plt\n",
    "\n",
    "from matplotlib.colors import ListedColormap\n",
    "cm_bright = ListedColormap(['#FF0000', '#0000FF'])\n",
    "%matplotlib inline\n",
    "from sklearn.metrics import accuracy_score\n",
    "\n",
    "import sklearn.linear_model"
   ]
  },
  {
   "cell_type": "code",
   "execution_count": 125,
   "metadata": {},
   "outputs": [],
   "source": [
    "def plot_surface(cls, x_1, x_2, ax=None, threshold=0.5, contourf=False):\n",
    "    xx1, xx2 = np.meshgrid(np.linspace(x_1.min(), x_1.max(), 100), \n",
    "                           np.linspace(x_2.min(), x_2.max(), 100))\n",
    "\n",
    "    X_pred = np.c_[xx1.ravel(), xx2.ravel()]\n",
    "    pred = cls.predict_proba(X_pred)[:, 0]\n",
    "    Z = pred.reshape((100, 100))\n",
    "    if ax is None:\n",
    "        ax = plt.gca()\n",
    "    ax.contour(xx1, xx2, Z, levels=[threshold], colors='black')\n",
    "    ax.set_xlim((x_1.min(), x_1.max()))\n",
    "    ax.set_ylim((x_2.min(), x_2.max()))"
   ]
  },
  {
   "cell_type": "code",
   "execution_count": 126,
   "metadata": {},
   "outputs": [],
   "source": [
    "def plot_data(X, y):\n",
    "    ax = plt.gca()\n",
    "    ax.scatter(X[:,0], X[:,1], c=(y == 1), cmap=cm_bright)"
   ]
  },
  {
   "cell_type": "code",
   "execution_count": 127,
   "metadata": {},
   "outputs": [],
   "source": [
    "class NeuralNet:\n",
    "    \"\"\"\n",
    "    NN for binary classification\n",
    "    Attributes:\n",
    "    ...\n",
    "    \"\"\"\n",
    "    \n",
    "    def __init__(self, hidden_layer_sizes, normalize = True, learning_rate = 0.01, num_iter = 30000, precision = None):\n",
    "        self.learning_rate = learning_rate\n",
    "        self.num_iter = num_iter\n",
    "        self.normalize = normalize\n",
    "        self.hidden_layer_sizes = hidden_layer_sizes\n",
    "        self.precision = precision\n",
    "    \n",
    "    def __normalize(self, X, mean = None, std = None):\n",
    "        \"\"\"\n",
    "        Зверніть увагу, що нормалізація вхідних даних є дуже важливою для швидкодії нейронних мереж.\n",
    "        \"\"\"\n",
    "        n = X.shape[0]\n",
    "        m = mean\n",
    "        if m is None:\n",
    "            m = np.mean(X, axis=1).reshape((n, 1))\n",
    "        s = std\n",
    "        if s is None:\n",
    "            s = np.std(X, axis=1).reshape((n, 1))\n",
    "        X_new = (X - m) / s**2\n",
    "        return X_new, m, s\n",
    "\n",
    "    def __sigmoid(self, Z):\n",
    "        \"\"\"\n",
    "        В наступних практичних потрібно буде додати підтримку й інших активаційних функцій - це один з гіперпараметрів. \n",
    "        Їх можна вибирати для всіх шарів одночасно або мати різні активаційні функції на кожному з них.\n",
    "        \"\"\"\n",
    "        return 1 / (1 + np.exp(-Z))\n",
    "    \n",
    "    \n",
    "    \n",
    "    def __initialize_parameters(self):\n",
    "        hidden_layer_sizes = self.hidden_layer_sizes\n",
    "        parameters = {}\n",
    "        for l in range(1, len(hidden_layer_sizes)):\n",
    "            parameters['W' + str(l)] = np.random.randn(hidden_layer_sizes[l], hidden_layer_sizes[l-1]) * 0.01\n",
    "            parameters['b' + str(l)] = np.zeros((hidden_layer_sizes[l], 1))\n",
    "        \n",
    "        self.parameters = parameters\n",
    "\n",
    "\n",
    "    def __forward_linear_activation(self, A_prev, W, b):\n",
    "        \n",
    "    \n",
    "        Z = np.dot(W, A_prev) + b\n",
    "        linear_cache = (A_prev, W, b)\n",
    "        A = self.__sigmoid(Z)\n",
    "        activation_cache = Z\n",
    "        \n",
    "        cache = (linear_cache, activation_cache)\n",
    "\n",
    "        return A, cache\n",
    "    \n",
    "    def __multilayer_forward(self, X):       \n",
    "        parameters = self.parameters\n",
    "        caches = []\n",
    "        A = X\n",
    "        L = len(parameters) // 2\n",
    "\n",
    "        for l in range(1, L):\n",
    "            A_prev = A \n",
    "            A, cache = self.__forward_linear_activation(A_prev, parameters[\"W\"+str(l)], parameters[\"b\"+str(l)])\n",
    "            caches.append(cache)\n",
    "            \n",
    "        AL, cache = self.__forward_linear_activation(A, parameters[\"W\"+str(L)], parameters[\"b\"+str(L)])\n",
    "        caches.append(cache)\n",
    "        \n",
    "        assert(AL.shape == (1,X.shape[1]))\n",
    "\n",
    "        return AL, caches\n",
    "\n",
    "\n",
    "    def __backward_linear_activation(self, dA, cache):\n",
    "        \n",
    "        linear_cache, activation_cache = cache\n",
    "        \n",
    "        Z = activation_cache\n",
    "        s = 1/(1+np.exp(-Z))\n",
    "        dZ = dA * s * (1-s)\n",
    "        \n",
    "        A_prev, W, b = linear_cache\n",
    "        m = A_prev.shape[1]\n",
    "        dW = 1 / m * np.dot(dZ, A_prev.T)\n",
    "        db = 1 / m * np.sum(dZ, axis=1, keepdims=True)\n",
    "        dA_prev = np.dot(W.T, dZ)\n",
    "        \n",
    "        return dA_prev, dW, db\n",
    "\n",
    "\n",
    "    def __multilayer_backward(self, X, Y, caches):\n",
    "        grads = {}\n",
    "        AL = X\n",
    "        L = len(caches)\n",
    "        m = AL.shape[1]\n",
    "        Y = Y.reshape(AL.shape)\n",
    "\n",
    "        dAL = -(np.divide(Y, AL) - np.divide(1 - Y, 1 - AL))\n",
    "        \n",
    "        current_cache = caches[L-1]\n",
    "        grads[\"dA\" + str(L-1)], grads[\"dW\" + str(L)], grads[\"db\" + str(L)] = self.__backward_linear_activation(dAL, current_cache)\n",
    "        \n",
    "        for l in reversed(range(L-1)):\n",
    "            current_cache = caches[l]\n",
    "            dA_prev_temp, dW_temp, db_temp = self.__backward_linear_activation(grads[\"dA\" + str(l + 1)], current_cache)\n",
    "            grads[\"dA\" + str(l)] = dA_prev_temp\n",
    "            grads[\"dW\" + str(l + 1)] = dW_temp\n",
    "            grads[\"db\" + str(l + 1)] = db_temp\n",
    "            \n",
    "        return grads\n",
    "    \n",
    "\n",
    "    \n",
    "    def compute_cost(self, A, Y):\n",
    "        m = Y.shape[1]\n",
    "        res = Y * np.log(A) + (1 - Y) * np.log(1 - A)\n",
    "        J = -(1 / m) * np.sum(res)\n",
    "        return J\n",
    "    \n",
    "    def __update_parameters(self, grads):\n",
    "        parameters = self.parameters;\n",
    "        learning_rate = self.learning_rate\n",
    "        L = len(parameters) // 2\n",
    "\n",
    "        for l in range(L):\n",
    "            parameters[\"W\" + str(l+1)] = parameters[\"W\" + str(l+1)] - learning_rate * grads[\"dW\" + str(l+1)]\n",
    "            parameters[\"b\" + str(l+1)] = parameters[\"b\" + str(l+1)] - learning_rate * grads[\"db\" + str(l+1)]\n",
    "            \n",
    "        self.parameters = parameters;\n",
    "        \n",
    "\n",
    "    def fit(self, X_vert, Y_vert, print_cost = True):\n",
    "        \n",
    "        X, Y = X_vert.T, Y_vert.T\n",
    "        \n",
    "        if self.normalize:\n",
    "            X, self.__mean, self.__std = self.__normalize(X)\n",
    "        \n",
    "        costs = []\n",
    "        \n",
    "        self.__initialize_parameters()\n",
    "\n",
    "        for i in range(0, self.num_iter):\n",
    "\n",
    "            AL, caches = self.__multilayer_forward(X)\n",
    "            \n",
    "            cost = self.compute_cost(AL, Y)\n",
    "            \n",
    "            grads = self.__multilayer_backward(AL, Y, caches)\n",
    "            \n",
    "            self.__update_parameters(grads)\n",
    "            \n",
    "            if print_cost and i % 100 == 0:\n",
    "                print (\"Cost after iteration %i: %f\" %(i, cost))\n",
    "            if print_cost and i % 100 == 0:\n",
    "                costs.append(cost)\n",
    "                \n",
    "                if len(costs) > 1 and self.precision != None and np.abs(costs[-2] - costs[-1]) < self.precision:\n",
    "                    print('Stopping gradient descent ...')\n",
    "                    break\n",
    "\n",
    "        if print_cost:\n",
    "                plt.plot(costs)\n",
    "                plt.ylabel(\"Cost\")\n",
    "                plt.xlabel(\"Iteration, *100\")\n",
    "                plt.show()\n",
    "\n",
    "    def predict_proba(self, X_vert):\n",
    "        X = X_vert.T\n",
    "        if self.normalize:\n",
    "            X, _, _ = self.__normalize(X, self.__mean, self.__std)\n",
    "        \n",
    "        probs = self.__multilayer_forward(X)[0]\n",
    "        \n",
    "        return np.column_stack((probs.T, 1 - probs.T))\n",
    "    \n",
    "    def predict(self, X_vert):\n",
    "        positive_probs = self.predict_proba(X_vert)[:, 0]\n",
    "        return (positive_probs >= 0.5).astype(int)"
   ]
  },
  {
   "cell_type": "markdown",
   "metadata": {},
   "source": [
    "Спочатку спробуйте цей клас на одній задачі, а потім на іншій."
   ]
  },
  {
   "cell_type": "code",
   "execution_count": 128,
   "metadata": {},
   "outputs": [],
   "source": [
    "#data_columns = [\"exam1\", \"exam2\"]\n",
    "#target_column = \"submitted\"\n",
    "#df = pd.read_csv(\"sats.csv\")\n",
    "#X, Y = df[data_columns].values, df[target_column].reshape((df.shape[0], 1))\n",
    "#print('Training set: X={}, y={}'.format(X.shape, Y.shape))"
   ]
  },
  {
   "cell_type": "code",
   "execution_count": 129,
   "metadata": {},
   "outputs": [
    {
     "name": "stdout",
     "output_type": "stream",
     "text": [
      "Training set: X=(118, 2), y=(118,)\n"
     ]
    }
   ],
   "source": [
    "data_columns = [\"test1\", \"test2\"]\n",
    "target_column = \"passed\"\n",
    "df = pd.read_csv(\"tests.csv\")\n",
    "X, Y = df[data_columns].values, df[target_column]\n",
    "print('Training set: X={}, y={}'.format(X.shape, Y.shape))"
   ]
  },
  {
   "cell_type": "code",
   "execution_count": 130,
   "metadata": {},
   "outputs": [
    {
     "data": {
      "image/png": "[encoded data removed]",
      "text/plain": [
       "<Figure size 432x288 with 1 Axes>"
      ]
     },
     "metadata": {
      "needs_background": "light"
     },
     "output_type": "display_data"
    }
   ],
   "source": [
    "plot_data(X, Y)"
   ]
  },
  {
   "cell_type": "code",
   "execution_count": 131,
   "metadata": {},
   "outputs": [],
   "source": [
    "cls = NeuralNet(hidden_layer_sizes = [2,2,1], normalize = True, learning_rate = 0.5, num_iter = 14000) \n",
    "\n",
    "X_train, X_test, Y_train, Y_test = train_test_split(X, Y.values.reshape((Y.shape[0], 1)), test_size = 0.2, random_state=10)"
   ]
  },
  {
   "cell_type": "code",
   "execution_count": 132,
   "metadata": {},
   "outputs": [
    {
     "name": "stdout",
     "output_type": "stream",
     "text": [
      "Cost after iteration 0: 0.693354\n",
      "Cost after iteration 100: 0.689491\n",
      "Cost after iteration 200: 0.689421\n",
      "Cost after iteration 300: 0.689277\n",
      "Cost after iteration 400: 0.689017\n",
      "Cost after iteration 500: 0.688661\n",
      "Cost after iteration 600: 0.688283\n",
      "Cost after iteration 700: 0.687862\n",
      "Cost after iteration 800: 0.687245\n",
      "Cost after iteration 900: 0.686126\n",
      "Cost after iteration 1000: 0.683906\n",
      "Cost after iteration 1100: 0.679569\n",
      "Cost after iteration 1200: 0.671999\n",
      "Cost after iteration 1300: 0.660320\n",
      "Cost after iteration 1400: 0.641410\n",
      "Cost after iteration 1500: 0.616030\n",
      "Cost after iteration 1600: 0.595476\n",
      "Cost after iteration 1700: 0.582462\n",
      "Cost after iteration 1800: 0.574573\n",
      "Cost after iteration 1900: 0.569538\n",
      "Cost after iteration 2000: 0.566077\n",
      "Cost after iteration 2100: 0.563535\n",
      "Cost after iteration 2200: 0.561569\n",
      "Cost after iteration 2300: 0.559990\n",
      "Cost after iteration 2400: 0.558686\n",
      "Cost after iteration 2500: 0.557583\n",
      "Cost after iteration 2600: 0.556632\n",
      "Cost after iteration 2700: 0.555798\n",
      "Cost after iteration 2800: 0.555058\n",
      "Cost after iteration 2900: 0.554393\n",
      "Cost after iteration 3000: 0.553789\n",
      "Cost after iteration 3100: 0.553238\n",
      "Cost after iteration 3200: 0.552733\n",
      "Cost after iteration 3300: 0.552267\n",
      "Cost after iteration 3400: 0.551836\n",
      "Cost after iteration 3500: 0.551438\n",
      "Cost after iteration 3600: 0.551068\n",
      "Cost after iteration 3700: 0.550724\n",
      "Cost after iteration 3800: 0.550404\n",
      "Cost after iteration 3900: 0.550106\n",
      "Cost after iteration 4000: 0.549828\n",
      "Cost after iteration 4100: 0.549568\n",
      "Cost after iteration 4200: 0.549325\n",
      "Cost after iteration 4300: 0.549097\n",
      "Cost after iteration 4400: 0.548883\n",
      "Cost after iteration 4500: 0.548683\n",
      "Cost after iteration 4600: 0.548494\n",
      "Cost after iteration 4700: 0.548316\n",
      "Cost after iteration 4800: 0.548149\n",
      "Cost after iteration 4900: 0.547990\n",
      "Cost after iteration 5000: 0.547840\n",
      "Cost after iteration 5100: 0.547699\n",
      "Cost after iteration 5200: 0.547564\n",
      "Cost after iteration 5300: 0.547436\n",
      "Cost after iteration 5400: 0.547314\n",
      "Cost after iteration 5500: 0.547198\n",
      "Cost after iteration 5600: 0.547088\n",
      "Cost after iteration 5700: 0.546982\n",
      "Cost after iteration 5800: 0.546880\n",
      "Cost after iteration 5900: 0.546783\n",
      "Cost after iteration 6000: 0.546690\n",
      "Cost after iteration 6100: 0.546600\n",
      "Cost after iteration 6200: 0.546513\n",
      "Cost after iteration 6300: 0.546430\n",
      "Cost after iteration 6400: 0.546349\n",
      "Cost after iteration 6500: 0.546270\n",
      "Cost after iteration 6600: 0.546194\n",
      "Cost after iteration 6700: 0.546121\n",
      "Cost after iteration 6800: 0.546049\n",
      "Cost after iteration 6900: 0.545979\n",
      "Cost after iteration 7000: 0.545910\n",
      "Cost after iteration 7100: 0.545843\n",
      "Cost after iteration 7200: 0.545778\n",
      "Cost after iteration 7300: 0.545713\n",
      "Cost after iteration 7400: 0.545650\n",
      "Cost after iteration 7500: 0.545587\n",
      "Cost after iteration 7600: 0.545526\n",
      "Cost after iteration 7700: 0.545465\n",
      "Cost after iteration 7800: 0.545405\n",
      "Cost after iteration 7900: 0.545345\n",
      "Cost after iteration 8000: 0.545285\n",
      "Cost after iteration 8100: 0.545226\n",
      "Cost after iteration 8200: 0.545168\n",
      "Cost after iteration 8300: 0.545109\n",
      "Cost after iteration 8400: 0.545050\n",
      "Cost after iteration 8500: 0.544991\n",
      "Cost after iteration 8600: 0.544932\n",
      "Cost after iteration 8700: 0.544872\n",
      "Cost after iteration 8800: 0.544812\n",
      "Cost after iteration 8900: 0.544752\n",
      "Cost after iteration 9000: 0.544691\n",
      "Cost after iteration 9100: 0.544629\n",
      "Cost after iteration 9200: 0.544566\n",
      "Cost after iteration 9300: 0.544502\n",
      "Cost after iteration 9400: 0.544437\n",
      "Cost after iteration 9500: 0.544370\n",
      "Cost after iteration 9600: 0.544301\n",
      "Cost after iteration 9700: 0.544231\n",
      "Cost after iteration 9800: 0.544159\n",
      "Cost after iteration 9900: 0.544084\n",
      "Cost after iteration 10000: 0.544007\n",
      "Cost after iteration 10100: 0.543927\n",
      "Cost after iteration 10200: 0.543844\n",
      "Cost after iteration 10300: 0.543757\n",
      "Cost after iteration 10400: 0.543666\n",
      "Cost after iteration 10500: 0.543570\n",
      "Cost after iteration 10600: 0.543470\n",
      "Cost after iteration 10700: 0.543364\n",
      "Cost after iteration 10800: 0.543252\n",
      "Cost after iteration 10900: 0.543134\n",
      "Cost after iteration 11000: 0.543010\n",
      "Cost after iteration 11100: 0.542878\n",
      "Cost after iteration 11200: 0.542739\n",
      "Cost after iteration 11300: 0.542593\n",
      "Cost after iteration 11400: 0.542441\n",
      "Cost after iteration 11500: 0.542282\n",
      "Cost after iteration 11600: 0.542118\n",
      "Cost after iteration 11700: 0.541949\n",
      "Cost after iteration 11800: 0.541776\n",
      "Cost after iteration 11900: 0.541601\n",
      "Cost after iteration 12000: 0.541423\n",
      "Cost after iteration 12100: 0.541243\n",
      "Cost after iteration 12200: 0.541064\n",
      "Cost after iteration 12300: 0.540884\n",
      "Cost after iteration 12400: 0.540706\n",
      "Cost after iteration 12500: 0.540528\n",
      "Cost after iteration 12600: 0.540353\n",
      "Cost after iteration 12700: 0.540180\n",
      "Cost after iteration 12800: 0.540009\n",
      "Cost after iteration 12900: 0.539841\n",
      "Cost after iteration 13000: 0.539675\n",
      "Cost after iteration 13100: 0.539513\n",
      "Cost after iteration 13200: 0.539354\n",
      "Cost after iteration 13300: 0.539198\n",
      "Cost after iteration 13400: 0.539045\n",
      "Cost after iteration 13500: 0.538896\n",
      "Cost after iteration 13600: 0.538749\n",
      "Cost after iteration 13700: 0.538606\n",
      "Cost after iteration 13800: 0.538466\n",
      "Cost after iteration 13900: 0.538329\n"
     ]
    },
    {
     "data": {
      "image/png": "[encoded data removed]",
      "text/plain": [
       "<Figure size 432x288 with 1 Axes>"
      ]
     },
     "metadata": {
      "needs_background": "light"
     },
     "output_type": "display_data"
    }
   ],
   "source": [
    "cls.fit(X_train, Y_train)"
   ]
  },
  {
   "cell_type": "code",
   "execution_count": null,
   "metadata": {},
   "outputs": [],
   "source": []
  },
  {
   "cell_type": "code",
   "execution_count": 133,
   "metadata": {},
   "outputs": [
    {
     "name": "stdout",
     "output_type": "stream",
     "text": [
      "{'W1': array([[-2.10193515, -2.32065773],\n",
      "       [-1.53848501, -2.95345625]]), 'b1': array([[-8.71404109],\n",
      "       [ 8.720261  ]]), 'W2': array([[-7.19509887,  6.22405882]]), 'b2': array([[-5.23420843]])}\n"
     ]
    }
   ],
   "source": [
    "print(cls.parameters)"
   ]
  },
  {
   "cell_type": "code",
   "execution_count": 134,
   "metadata": {},
   "outputs": [
    {
     "data": {
      "text/plain": [
       "array([[0.72572114, 0.27427886],\n",
       "       [0.62205818, 0.37794182],\n",
       "       [0.62119976, 0.37880024],\n",
       "       [0.22701412, 0.77298588],\n",
       "       [0.0267601 , 0.9732399 ],\n",
       "       [0.69008997, 0.30991003],\n",
       "       [0.01288163, 0.98711837],\n",
       "       [0.72882873, 0.27117127],\n",
       "       [0.7282695 , 0.2717305 ],\n",
       "       [0.70934438, 0.29065562],\n",
       "       [0.7247539 , 0.2752461 ],\n",
       "       [0.26543983, 0.73456017],\n",
       "       [0.25101933, 0.74898067],\n",
       "       [0.1760443 , 0.8239557 ],\n",
       "       [0.66056586, 0.33943414],\n",
       "       [0.72236123, 0.27763877],\n",
       "       [0.70551172, 0.29448828],\n",
       "       [0.72893011, 0.27106989],\n",
       "       [0.67346093, 0.32653907],\n",
       "       [0.59795948, 0.40204052],\n",
       "       [0.72380051, 0.27619949],\n",
       "       [0.68490824, 0.31509176],\n",
       "       [0.70065323, 0.29934677],\n",
       "       [0.09027672, 0.90972328],\n",
       "       [0.72689245, 0.27310755],\n",
       "       [0.67333632, 0.32666368],\n",
       "       [0.19883363, 0.80116637],\n",
       "       [0.67837266, 0.32162734],\n",
       "       [0.64689352, 0.35310648],\n",
       "       [0.72013272, 0.27986728],\n",
       "       [0.69925156, 0.30074844],\n",
       "       [0.72023749, 0.27976251],\n",
       "       [0.42060136, 0.57939864],\n",
       "       [0.71669254, 0.28330746],\n",
       "       [0.00701757, 0.99298243],\n",
       "       [0.72497773, 0.27502227],\n",
       "       [0.39454527, 0.60545473],\n",
       "       [0.72846125, 0.27153875],\n",
       "       [0.7273877 , 0.2726123 ],\n",
       "       [0.02497285, 0.97502715],\n",
       "       [0.04575824, 0.95424176],\n",
       "       [0.55294424, 0.44705576],\n",
       "       [0.012941  , 0.987059  ],\n",
       "       [0.72707236, 0.27292764],\n",
       "       [0.20435894, 0.79564106],\n",
       "       [0.72802021, 0.27197979],\n",
       "       [0.03257662, 0.96742338],\n",
       "       [0.01393221, 0.98606779],\n",
       "       [0.05517019, 0.94482981],\n",
       "       [0.55765744, 0.44234256],\n",
       "       [0.5910554 , 0.4089446 ],\n",
       "       [0.72896144, 0.27103856],\n",
       "       [0.72625727, 0.27374273],\n",
       "       [0.00709992, 0.99290008],\n",
       "       [0.39042956, 0.60957044],\n",
       "       [0.71015885, 0.28984115],\n",
       "       [0.00386681, 0.99613319],\n",
       "       [0.57376074, 0.42623926],\n",
       "       [0.71541564, 0.28458436],\n",
       "       [0.72787189, 0.27212811],\n",
       "       [0.72738146, 0.27261854],\n",
       "       [0.7053161 , 0.2946839 ],\n",
       "       [0.03226722, 0.96773278],\n",
       "       [0.44473231, 0.55526769],\n",
       "       [0.71302024, 0.28697976],\n",
       "       [0.65940006, 0.34059994],\n",
       "       [0.00426271, 0.99573729],\n",
       "       [0.25492972, 0.74507028],\n",
       "       [0.72551203, 0.27448797],\n",
       "       [0.34218866, 0.65781134],\n",
       "       [0.71995402, 0.28004598],\n",
       "       [0.55570426, 0.44429574],\n",
       "       [0.72887816, 0.27112184],\n",
       "       [0.72879486, 0.27120514],\n",
       "       [0.6759184 , 0.3240816 ],\n",
       "       [0.72831848, 0.27168152],\n",
       "       [0.72877649, 0.27122351],\n",
       "       [0.71065985, 0.28934015],\n",
       "       [0.72851949, 0.27148051],\n",
       "       [0.63191856, 0.36808144],\n",
       "       [0.03979718, 0.96020282],\n",
       "       [0.72543622, 0.27456378],\n",
       "       [0.72664471, 0.27335529],\n",
       "       [0.66609838, 0.33390162],\n",
       "       [0.49558141, 0.50441859],\n",
       "       [0.72480656, 0.27519344],\n",
       "       [0.3222853 , 0.6777147 ],\n",
       "       [0.6647018 , 0.3352982 ],\n",
       "       [0.7275484 , 0.2724516 ],\n",
       "       [0.67071722, 0.32928278],\n",
       "       [0.29819113, 0.70180887],\n",
       "       [0.71480894, 0.28519106],\n",
       "       [0.7280405 , 0.2719595 ],\n",
       "       [0.71992297, 0.28007703],\n",
       "       [0.19723066, 0.80276934],\n",
       "       [0.21427854, 0.78572146],\n",
       "       [0.71284773, 0.28715227],\n",
       "       [0.04117926, 0.95882074],\n",
       "       [0.64371056, 0.35628944],\n",
       "       [0.58184234, 0.41815766],\n",
       "       [0.705897  , 0.294103  ],\n",
       "       [0.72861453, 0.27138547],\n",
       "       [0.59027775, 0.40972225],\n",
       "       [0.03799754, 0.96200246],\n",
       "       [0.70479729, 0.29520271],\n",
       "       [0.71755146, 0.28244854],\n",
       "       [0.72667314, 0.27332686],\n",
       "       [0.56064528, 0.43935472],\n",
       "       [0.72268517, 0.27731483],\n",
       "       [0.69982078, 0.30017922],\n",
       "       [0.728928  , 0.271072  ],\n",
       "       [0.72629321, 0.27370679],\n",
       "       [0.72713025, 0.27286975],\n",
       "       [0.72811569, 0.27188431],\n",
       "       [0.43328241, 0.56671759],\n",
       "       [0.7133237 , 0.2866763 ],\n",
       "       [0.16573306, 0.83426694],\n",
       "       [0.7203735 , 0.2796265 ]])"
      ]
     },
     "execution_count": 134,
     "metadata": {},
     "output_type": "execute_result"
    }
   ],
   "source": [
    "Y_prob = cls.predict_proba(X)\n",
    "Y_prob"
   ]
  },
  {
   "cell_type": "code",
   "execution_count": 135,
   "metadata": {},
   "outputs": [
    {
     "data": {
      "text/plain": [
       "array([1, 1, 1, 0, 0, 1, 0, 1, 1, 1, 1, 0, 0, 0, 1, 1, 1, 1, 1, 1, 1, 1,\n",
       "       1, 0, 1, 1, 0, 1, 1, 1, 1, 1, 0, 1, 0, 1, 0, 1, 1, 0, 0, 1, 0, 1,\n",
       "       0, 1, 0, 0, 0, 1, 1, 1, 1, 0, 0, 1, 0, 1, 1, 1, 1, 1, 0, 0, 1, 1,\n",
       "       0, 0, 1, 0, 1, 1, 1, 1, 1, 1, 1, 1, 1, 1, 0, 1, 1, 1, 0, 1, 0, 1,\n",
       "       1, 1, 0, 1, 1, 1, 0, 0, 1, 0, 1, 1, 1, 1, 1, 0, 1, 1, 1, 1, 1, 1,\n",
       "       1, 1, 1, 1, 0, 1, 0, 1])"
      ]
     },
     "execution_count": 135,
     "metadata": {},
     "output_type": "execute_result"
    }
   ],
   "source": [
    "Y_hat = cls.predict(X)\n",
    "Y_hat"
   ]
  },
  {
   "cell_type": "code",
   "execution_count": 136,
   "metadata": {},
   "outputs": [
    {
     "data": {
      "text/plain": [
       "0.711864406779661"
      ]
     },
     "execution_count": 136,
     "metadata": {},
     "output_type": "execute_result"
    }
   ],
   "source": [
    "accuracy_score(Y, Y_hat)"
   ]
  },
  {
   "cell_type": "code",
   "execution_count": 137,
   "metadata": {},
   "outputs": [
    {
     "data": {
      "image/png": "[encoded data removed]",
      "text/plain": [
       "<Figure size 432x288 with 1 Axes>"
      ]
     },
     "metadata": {
      "needs_background": "light"
     },
     "output_type": "display_data"
    }
   ],
   "source": [
    "plot_data(X, Y)\n",
    "plot_surface(cls, X[:, 0], X[:, 1])"
   ]
  },
  {
   "cell_type": "markdown",
   "metadata": {},
   "source": [
    "Зверніть увагу на границю прийняття рішення. Модель старається побудувати складну криву, що може свідчити про її перетренування. Порівняйте отримані результати з класом з sklearn. Спробуйте додати нові шари для нашого класу та порівняти результати тоді. Поекспериментуйте з гіперпараметрами для обох класів."
   ]
  },
  {
   "cell_type": "code",
   "execution_count": 138,
   "metadata": {},
   "outputs": [],
   "source": [
    "from sklearn.neural_network import MLPClassifier\n",
    "clf = MLPClassifier(hidden_layer_sizes = (20,), max_iter = 10000, activation = 'relu', solver = 'sgd', learning_rate_init = 0.01, learning_rate = 'constant')"
   ]
  },
  {
   "cell_type": "code",
   "execution_count": 139,
   "metadata": {},
   "outputs": [
    {
     "data": {
      "text/plain": [
       "MLPClassifier(activation='relu', alpha=0.0001, batch_size='auto', beta_1=0.9,\n",
       "              beta_2=0.999, early_stopping=False, epsilon=1e-08,\n",
       "              hidden_layer_sizes=(20,), learning_rate='constant',\n",
       "              learning_rate_init=0.01, max_fun=15000, max_iter=10000,\n",
       "              momentum=0.9, n_iter_no_change=10, nesterovs_momentum=True,\n",
       "              power_t=0.5, random_state=None, shuffle=True, solver='sgd',\n",
       "              tol=0.0001, validation_fraction=0.1, verbose=False,\n",
       "              warm_start=False)"
      ]
     },
     "execution_count": 139,
     "metadata": {},
     "output_type": "execute_result"
    }
   ],
   "source": [
    "clf.fit(X, Y)"
   ]
  },
  {
   "cell_type": "code",
   "execution_count": 140,
   "metadata": {},
   "outputs": [
    {
     "data": {
      "image/png": "[encoded data removed]",
      "text/plain": [
       "<Figure size 432x288 with 1 Axes>"
      ]
     },
     "metadata": {
      "needs_background": "light"
     },
     "output_type": "display_data"
    }
   ],
   "source": [
    "plot_data(X, Y)\n",
    "plot_surface(clf, X[:, 0], X[:, 1])"
   ]
  },
  {
   "cell_type": "code",
   "execution_count": 141,
   "metadata": {},
   "outputs": [
    {
     "data": {
      "text/plain": [
       "0.847457627118644"
      ]
     },
     "execution_count": 141,
     "metadata": {},
     "output_type": "execute_result"
    }
   ],
   "source": [
    "accuracy_score(Y, clf.predict(X))"
   ]
  },
  {
   "cell_type": "code",
   "execution_count": null,
   "metadata": {},
   "outputs": [],
   "source": []
  }
 ],
 "metadata": {
  "anaconda-cloud": {},
  "kernelspec": {
   "display_name": "Python 3",
   "language": "python",
   "name": "python3"
  },
  "language_info": {
   "codemirror_mode": {
    "name": "ipython",
    "version": 3
   },
   "file_extension": ".py",
   "mimetype": "text/x-python",
   "name": "python",
   "nbconvert_exporter": "python",
   "pygments_lexer": "ipython3",
   "version": "3.7.4"
  }
 },
 "nbformat": 4,
 "nbformat_minor": 1
}
